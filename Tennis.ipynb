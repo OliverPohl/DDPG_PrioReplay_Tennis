{
 "cells": [
  {
   "cell_type": "markdown",
   "metadata": {},
   "source": [
    "# Collaboration and Competition\n",
    "\n",
    "---\n",
    "\n",
    "In this notebook, you will learn how to use the Unity ML-Agents environment for the third project of the [Deep Reinforcement Learning Nanodegree](https://www.udacity.com/course/deep-reinforcement-learning-nanodegree--nd893) program.\n",
    "\n",
    "### 1. Start the Environment\n",
    "\n",
    "We begin by importing the necessary packages.  If the code cell below returns an error, please revisit the project instructions to double-check that you have installed [Unity ML-Agents](https://github.com/Unity-Technologies/ml-agents/blob/master/docs/Installation.md) and [NumPy](http://www.numpy.org/)."
   ]
  },
  {
   "cell_type": "markdown",
   "metadata": {},
   "source": [
    "Next, we will start the environment!  **_Before running the code cell below_**, change the `file_name` parameter to match the location of the Unity environment that you downloaded.\n",
    "\n",
    "- **Mac**: `\"path/to/Tennis.app\"`\n",
    "- **Windows** (x86): `\"path/to/Tennis_Windows_x86/Tennis.exe\"`\n",
    "- **Windows** (x86_64): `\"path/to/Tennis_Windows_x86_64/Tennis.exe\"`\n",
    "- **Linux** (x86): `\"path/to/Tennis_Linux/Tennis.x86\"`\n",
    "- **Linux** (x86_64): `\"path/to/Tennis_Linux/Tennis.x86_64\"`\n",
    "- **Linux** (x86, headless): `\"path/to/Tennis_Linux_NoVis/Tennis.x86\"`\n",
    "- **Linux** (x86_64, headless): `\"path/to/Tennis_Linux_NoVis/Tennis.x86_64\"`\n",
    "\n",
    "For instance, if you are using a Mac, then you downloaded `Tennis.app`.  If this file is in the same folder as the notebook, then the line below should appear as follows:\n",
    "```\n",
    "env = UnityEnvironment(file_name=\"Tennis.app\")\n",
    "```"
   ]
  },
  {
   "cell_type": "markdown",
   "metadata": {},
   "source": [
    "Environments contain **_brains_** which are responsible for deciding the actions of their associated agents. Here we check for the first brain available, and set it as the default brain we will be controlling from Python."
   ]
  },
  {
   "cell_type": "markdown",
   "metadata": {},
   "source": [
    "### 2. Examine the State and Action Spaces\n",
    "\n",
    "In this environment, two agents control rackets to bounce a ball over a net. If an agent hits the ball over the net, it receives a reward of +0.1.  If an agent lets a ball hit the ground or hits the ball out of bounds, it receives a reward of -0.01.  Thus, the goal of each agent is to keep the ball in play.\n",
    "\n",
    "The observation space consists of 8 variables corresponding to the position and velocity of the ball and racket. Two continuous actions are available, corresponding to movement toward (or away from) the net, and jumping. \n",
    "\n",
    "Run the code cell below to print some information about the environment."
   ]
  },
  {
   "cell_type": "code",
   "execution_count": 1,
   "metadata": {},
   "outputs": [
    {
     "name": "stderr",
     "output_type": "stream",
     "text": [
      "INFO:unityagents:\n",
      "'Academy' started successfully!\n",
      "Unity Academy name: Academy\n",
      "        Number of Brains: 1\n",
      "        Number of External Brains : 1\n",
      "        Lesson number : 0\n",
      "        Reset Parameters :\n",
      "\t\t\n",
      "Unity brain name: TennisBrain\n",
      "        Number of Visual Observations (per agent): 0\n",
      "        Vector Observation space type: continuous\n",
      "        Vector Observation space size (per agent): 8\n",
      "        Number of stacked Vector Observation: 3\n",
      "        Vector Action space type: continuous\n",
      "        Vector Action space size (per agent): 2\n",
      "        Vector Action descriptions: , \n"
     ]
    },
    {
     "name": "stdout",
     "output_type": "stream",
     "text": [
      "Number of agents: 2\n",
      "Size of each action: 2\n",
      "There are 2 agents. Each observes a state with length: 24\n",
      "The state for the first agent looks like: [ 0.          0.          0.          0.          0.          0.\n",
      "  0.          0.          0.          0.          0.          0.\n",
      "  0.          0.          0.          0.         -6.65278625 -1.5\n",
      " -0.          0.          6.83172083  6.         -0.          0.        ]\n"
     ]
    }
   ],
   "source": [
    "from unityagents import UnityEnvironment\n",
    "import numpy as np\n",
    "\n",
    "env = UnityEnvironment(file_name=\"Tennis_Linux/Tennis.x86_64\")#, no_graphics = True)\n",
    "# get the default brain\n",
    "brain_name = env.brain_names[0]\n",
    "brain = env.brains[brain_name]\n",
    "\n",
    "# reset the environment\n",
    "env_info = env.reset(train_mode=True)[brain_name]\n",
    "\n",
    "# number of agents \n",
    "num_agents = len(env_info.agents)\n",
    "print('Number of agents:', num_agents)\n",
    "\n",
    "# size of each action\n",
    "action_size = brain.vector_action_space_size\n",
    "print('Size of each action:', action_size)\n",
    "\n",
    "# examine the state space \n",
    "states = env_info.vector_observations\n",
    "state_size = states.shape[1]\n",
    "print('There are {} agents. Each observes a state with length: {}'.format(states.shape[0], state_size))\n",
    "print('The state for the first agent looks like:', states[0])"
   ]
  },
  {
   "cell_type": "markdown",
   "metadata": {},
   "source": [
    "### 3. Take Random Actions in the Environment\n",
    "\n",
    "In the next code cell, you will learn how to use the Python API to control the agents and receive feedback from the environment.\n",
    "\n",
    "Once this cell is executed, you will watch the agents' performance, if they select actions at random with each time step.  A window should pop up that allows you to observe the agents.\n",
    "\n",
    "Of course, as part of the project, you'll have to change the code so that the agents are able to use their experiences to gradually choose better actions when interacting with the environment!"
   ]
  },
  {
   "cell_type": "markdown",
   "metadata": {},
   "source": [
    "When finished, you can close the environment."
   ]
  },
  {
   "cell_type": "markdown",
   "metadata": {},
   "source": [
    "### 4. It's Your Turn!\n",
    "\n",
    "Now it's your turn to train your own agent to solve the environment!  When training the environment, set `train_mode=True`, so that the line for resetting the environment looks like the following:\n",
    "```python\n",
    "env_info = env.reset(train_mode=True)[brain_name]\n",
    "```"
   ]
  },
  {
   "cell_type": "code",
   "execution_count": 2,
   "metadata": {
    "collapsed": true
   },
   "outputs": [
    {
     "name": "stderr",
     "output_type": "stream",
     "text": [
      "/home/oliver/.local/lib/python3.6/site-packages/torch/nn/functional.py:1374: UserWarning: nn.functional.tanh is deprecated. Use torch.tanh instead.\n",
      "  warnings.warn(\"nn.functional.tanh is deprecated. Use torch.tanh instead.\")\n"
     ]
    },
    {
     "name": "stdout",
     "output_type": "stream",
     "text": [
      "Episode 0\tAverage Score: -0.00\n",
      "tensor(5.1634e-05, grad_fn=<MeanBackward0>)\n",
      "tensor(0.0016, grad_fn=<MeanBackward0>)\n",
      "tensor(5.6707e-05, grad_fn=<MeanBackward0>)\n",
      "tensor(0.0006, grad_fn=<MeanBackward0>)\n",
      "tensor(0.0006, grad_fn=<MeanBackward0>)\n",
      "tensor(0.0003, grad_fn=<MeanBackward0>)\n",
      "tensor(6.3445e-05, grad_fn=<MeanBackward0>)\n",
      "tensor(2.6210e-05, grad_fn=<MeanBackward0>)\n",
      "tensor(4.9853e-05, grad_fn=<MeanBackward0>)\n",
      "tensor(6.4986e-05, grad_fn=<MeanBackward0>)\n",
      "tensor(7.4168e-05, grad_fn=<MeanBackward0>)\n",
      "tensor(8.3536e-05, grad_fn=<MeanBackward0>)\n",
      "tensor(8.5570e-05, grad_fn=<MeanBackward0>)\n",
      "tensor(6.7566e-05, grad_fn=<MeanBackward0>)\n",
      "tensor(6.6692e-05, grad_fn=<MeanBackward0>)\n",
      "tensor(4.5289e-05, grad_fn=<MeanBackward0>)\n",
      "tensor(3.9533e-05, grad_fn=<MeanBackward0>)\n",
      "tensor(3.4231e-05, grad_fn=<MeanBackward0>)\n",
      "tensor(4.7142e-05, grad_fn=<MeanBackward0>)\n",
      "tensor(3.6532e-05, grad_fn=<MeanBackward0>)\n",
      "tensor(2.8647e-05, grad_fn=<MeanBackward0>)\n",
      "tensor(2.9133e-05, grad_fn=<MeanBackward0>)\n",
      "tensor(3.3567e-05, grad_fn=<MeanBackward0>)\n",
      "tensor(3.4729e-05, grad_fn=<MeanBackward0>)\n",
      "tensor(2.2252e-05, grad_fn=<MeanBackward0>)\n",
      "tensor(3.9426e-05, grad_fn=<MeanBackward0>)\n",
      "tensor(4.4030e-05, grad_fn=<MeanBackward0>)\n",
      "tensor(2.6344e-05, grad_fn=<MeanBackward0>)\n",
      "tensor(3.5049e-05, grad_fn=<MeanBackward0>)\n",
      "tensor(2.3706e-05, grad_fn=<MeanBackward0>)\n",
      "tensor(2.3906e-05, grad_fn=<MeanBackward0>)\n",
      "tensor(3.4157e-05, grad_fn=<MeanBackward0>)\n",
      "tensor(4.9748e-05, grad_fn=<MeanBackward0>)\n",
      "tensor(1.8178e-05, grad_fn=<MeanBackward0>)\n",
      "tensor(2.9401e-05, grad_fn=<MeanBackward0>)\n",
      "tensor(2.5188e-05, grad_fn=<MeanBackward0>)\n",
      "tensor(2.7324e-05, grad_fn=<MeanBackward0>)\n",
      "tensor(3.4441e-05, grad_fn=<MeanBackward0>)\n",
      "tensor(4.1035e-05, grad_fn=<MeanBackward0>)\n",
      "tensor(2.3875e-05, grad_fn=<MeanBackward0>)\n",
      "tensor(1.8726e-05, grad_fn=<MeanBackward0>)\n",
      "tensor(2.1909e-05, grad_fn=<MeanBackward0>)\n",
      "tensor(1.7170e-05, grad_fn=<MeanBackward0>)\n",
      "tensor(1.7390e-05, grad_fn=<MeanBackward0>)\n",
      "tensor(2.7147e-05, grad_fn=<MeanBackward0>)\n",
      "tensor(3.8079e-05, grad_fn=<MeanBackward0>)\n",
      "tensor(2.5555e-05, grad_fn=<MeanBackward0>)\n",
      "tensor(1.7987e-05, grad_fn=<MeanBackward0>)\n",
      "tensor(3.6222e-05, grad_fn=<MeanBackward0>)\n",
      "tensor(3.3924e-05, grad_fn=<MeanBackward0>)\n",
      "tensor(2.0685e-05, grad_fn=<MeanBackward0>)\n",
      "tensor(3.1944e-05, grad_fn=<MeanBackward0>)\n",
      "tensor(3.0995e-05, grad_fn=<MeanBackward0>)\n",
      "tensor(4.4322e-05, grad_fn=<MeanBackward0>)\n",
      "tensor(3.0570e-05, grad_fn=<MeanBackward0>)\n",
      "tensor(2.5102e-05, grad_fn=<MeanBackward0>)\n",
      "tensor(2.4320e-05, grad_fn=<MeanBackward0>)\n",
      "tensor(2.2472e-05, grad_fn=<MeanBackward0>)\n",
      "tensor(1.8312e-05, grad_fn=<MeanBackward0>)\n",
      "tensor(1.5727e-05, grad_fn=<MeanBackward0>)\n",
      "tensor(1.6936e-05, grad_fn=<MeanBackward0>)\n",
      "tensor(2.8694e-05, grad_fn=<MeanBackward0>)\n",
      "tensor(2.7060e-05, grad_fn=<MeanBackward0>)\n",
      "tensor(2.3759e-05, grad_fn=<MeanBackward0>)\n",
      "tensor(2.8334e-05, grad_fn=<MeanBackward0>)\n",
      "tensor(2.2011e-05, grad_fn=<MeanBackward0>)\n",
      "tensor(2.4958e-05, grad_fn=<MeanBackward0>)\n",
      "tensor(2.1497e-05, grad_fn=<MeanBackward0>)\n",
      "tensor(1.7948e-05, grad_fn=<MeanBackward0>)\n",
      "tensor(2.3192e-05, grad_fn=<MeanBackward0>)\n",
      "tensor(1.6519e-05, grad_fn=<MeanBackward0>)\n",
      "tensor(1.7070e-05, grad_fn=<MeanBackward0>)\n",
      "tensor(1.6906e-05, grad_fn=<MeanBackward0>)\n",
      "tensor(1.6912e-05, grad_fn=<MeanBackward0>)\n",
      "tensor(2.3220e-05, grad_fn=<MeanBackward0>)\n",
      "tensor(2.0381e-05, grad_fn=<MeanBackward0>)\n",
      "tensor(2.5315e-05, grad_fn=<MeanBackward0>)\n",
      "tensor(1.1562e-05, grad_fn=<MeanBackward0>)\n",
      "tensor(1.4537e-05, grad_fn=<MeanBackward0>)\n",
      "tensor(2.1510e-05, grad_fn=<MeanBackward0>)\n",
      "tensor(1.5905e-05, grad_fn=<MeanBackward0>)\n",
      "tensor(1.4016e-05, grad_fn=<MeanBackward0>)\n",
      "Episode 30\tAverage Score: -0.00\n",
      "tensor(1.2733e-05, grad_fn=<MeanBackward0>)\n",
      "tensor(1.5476e-05, grad_fn=<MeanBackward0>)\n",
      "tensor(8.5991e-06, grad_fn=<MeanBackward0>)\n",
      "tensor(2.1738e-05, grad_fn=<MeanBackward0>)\n",
      "tensor(1.0426e-05, grad_fn=<MeanBackward0>)\n",
      "tensor(2.2861e-05, grad_fn=<MeanBackward0>)\n",
      "tensor(1.5770e-05, grad_fn=<MeanBackward0>)\n",
      "tensor(1.5216e-05, grad_fn=<MeanBackward0>)\n",
      "tensor(1.8114e-05, grad_fn=<MeanBackward0>)\n",
      "tensor(7.4373e-06, grad_fn=<MeanBackward0>)\n",
      "tensor(0.0002, grad_fn=<MeanBackward0>)\n",
      "tensor(2.6591e-05, grad_fn=<MeanBackward0>)\n",
      "tensor(8.7361e-06, grad_fn=<MeanBackward0>)\n",
      "tensor(0.0002, grad_fn=<MeanBackward0>)\n",
      "tensor(2.1376e-05, grad_fn=<MeanBackward0>)\n",
      "tensor(2.0006e-05, grad_fn=<MeanBackward0>)\n",
      "tensor(1.5623e-05, grad_fn=<MeanBackward0>)\n",
      "tensor(2.6704e-05, grad_fn=<MeanBackward0>)\n",
      "tensor(0.0002, grad_fn=<MeanBackward0>)\n",
      "tensor(2.0623e-05, grad_fn=<MeanBackward0>)\n",
      "tensor(0.0001, grad_fn=<MeanBackward0>)\n",
      "tensor(2.1114e-05, grad_fn=<MeanBackward0>)\n",
      "tensor(1.0666e-05, grad_fn=<MeanBackward0>)\n",
      "tensor(1.2475e-05, grad_fn=<MeanBackward0>)\n",
      "tensor(1.3572e-05, grad_fn=<MeanBackward0>)\n",
      "tensor(3.0209e-05, grad_fn=<MeanBackward0>)\n",
      "tensor(1.3327e-05, grad_fn=<MeanBackward0>)\n",
      "tensor(1.9944e-05, grad_fn=<MeanBackward0>)\n",
      "tensor(9.7678e-06, grad_fn=<MeanBackward0>)\n",
      "tensor(9.3833e-06, grad_fn=<MeanBackward0>)\n",
      "tensor(1.1579e-05, grad_fn=<MeanBackward0>)\n",
      "tensor(9.0743e-06, grad_fn=<MeanBackward0>)\n",
      "tensor(7.7596e-06, grad_fn=<MeanBackward0>)\n",
      "tensor(1.3204e-05, grad_fn=<MeanBackward0>)\n",
      "tensor(1.7200e-05, grad_fn=<MeanBackward0>)\n",
      "tensor(1.3795e-05, grad_fn=<MeanBackward0>)\n",
      "tensor(2.9030e-05, grad_fn=<MeanBackward0>)\n",
      "tensor(1.6068e-05, grad_fn=<MeanBackward0>)\n",
      "tensor(1.0065e-05, grad_fn=<MeanBackward0>)\n",
      "tensor(9.5159e-06, grad_fn=<MeanBackward0>)\n"
     ]
    },
    {
     "ename": "KeyboardInterrupt",
     "evalue": "",
     "output_type": "error",
     "traceback": [
      "\u001b[0;31m---------------------------------------------------------------------------\u001b[0m",
      "\u001b[0;31mKeyboardInterrupt\u001b[0m                         Traceback (most recent call last)",
      "\u001b[0;32m<ipython-input-2-2dd294ce3858>\u001b[0m in \u001b[0;36m<module>\u001b[0;34m\u001b[0m\n\u001b[1;32m     60\u001b[0m \u001b[0;34m\u001b[0m\u001b[0m\n\u001b[1;32m     61\u001b[0m \u001b[0magent\u001b[0m \u001b[0;34m=\u001b[0m \u001b[0mAgent\u001b[0m\u001b[0;34m(\u001b[0m\u001b[0mstate_size\u001b[0m\u001b[0;34m,\u001b[0m \u001b[0maction_size\u001b[0m\u001b[0;34m,\u001b[0m \u001b[0mseed\u001b[0m\u001b[0;34m,\u001b[0m \u001b[0mBatch_size\u001b[0m\u001b[0;34m,\u001b[0m \u001b[0mLearning_Rate\u001b[0m\u001b[0;34m,\u001b[0m \u001b[0mN_Bootstrap\u001b[0m\u001b[0;34m)\u001b[0m\u001b[0;34m\u001b[0m\u001b[0;34m\u001b[0m\u001b[0m\n\u001b[0;32m---> 62\u001b[0;31m \u001b[0mscores\u001b[0m \u001b[0;34m=\u001b[0m \u001b[0mddpg\u001b[0m\u001b[0;34m(\u001b[0m\u001b[0menv\u001b[0m\u001b[0;34m,\u001b[0m\u001b[0magent\u001b[0m\u001b[0;34m,\u001b[0m \u001b[0mprint_every\u001b[0m\u001b[0;34m,\u001b[0m \u001b[0mn_episodes\u001b[0m\u001b[0;34m,\u001b[0m \u001b[0mmax_t\u001b[0m\u001b[0;34m,\u001b[0m \u001b[0mBatch_size\u001b[0m\u001b[0;34m,\u001b[0m \u001b[0mN_Bootstrap\u001b[0m\u001b[0;34m,\u001b[0m \u001b[0mseed\u001b[0m\u001b[0;34m)\u001b[0m\u001b[0;34m\u001b[0m\u001b[0;34m\u001b[0m\u001b[0m\n\u001b[0m\u001b[1;32m     63\u001b[0m \u001b[0mtorch\u001b[0m\u001b[0;34m.\u001b[0m\u001b[0msave\u001b[0m\u001b[0;34m(\u001b[0m\u001b[0magent\u001b[0m\u001b[0;34m.\u001b[0m\u001b[0mactor_local\u001b[0m\u001b[0;34m.\u001b[0m\u001b[0mstate_dict\u001b[0m\u001b[0;34m(\u001b[0m\u001b[0;34m)\u001b[0m\u001b[0;34m,\u001b[0m \u001b[0;34m'checkpoint_actor_'\u001b[0m\u001b[0;34m+\u001b[0m\u001b[0mstr\u001b[0m\u001b[0;34m(\u001b[0m\u001b[0mseed\u001b[0m\u001b[0;34m)\u001b[0m\u001b[0;34m+\u001b[0m\u001b[0;34m\".pth\"\u001b[0m\u001b[0;34m)\u001b[0m\u001b[0;34m\u001b[0m\u001b[0;34m\u001b[0m\u001b[0m\n\u001b[1;32m     64\u001b[0m \u001b[0mtorch\u001b[0m\u001b[0;34m.\u001b[0m\u001b[0msave\u001b[0m\u001b[0;34m(\u001b[0m\u001b[0magent\u001b[0m\u001b[0;34m.\u001b[0m\u001b[0mcritic_local\u001b[0m\u001b[0;34m.\u001b[0m\u001b[0mstate_dict\u001b[0m\u001b[0;34m(\u001b[0m\u001b[0;34m)\u001b[0m\u001b[0;34m,\u001b[0m \u001b[0;34m'checkpoint_critic_'\u001b[0m\u001b[0;34m+\u001b[0m\u001b[0mstr\u001b[0m\u001b[0;34m(\u001b[0m\u001b[0mseed\u001b[0m\u001b[0;34m)\u001b[0m\u001b[0;34m+\u001b[0m\u001b[0;34m\".pth\"\u001b[0m\u001b[0;34m)\u001b[0m\u001b[0;34m\u001b[0m\u001b[0;34m\u001b[0m\u001b[0m\n",
      "\u001b[0;32m<ipython-input-2-2dd294ce3858>\u001b[0m in \u001b[0;36mddpg\u001b[0;34m(env, agent, print_every, n_episodes, max_t, Batch_size, N_Bootstrap, seed)\u001b[0m\n\u001b[1;32m     43\u001b[0m             \u001b[0mscore\u001b[0m \u001b[0;34m+=\u001b[0m \u001b[0mnp\u001b[0m\u001b[0;34m.\u001b[0m\u001b[0masarray\u001b[0m\u001b[0;34m(\u001b[0m\u001b[0menv_info\u001b[0m\u001b[0;34m.\u001b[0m\u001b[0mrewards\u001b[0m\u001b[0;34m)\u001b[0m\u001b[0;34m\u001b[0m\u001b[0;34m\u001b[0m\u001b[0m\n\u001b[1;32m     44\u001b[0m             \u001b[0magent\u001b[0m\u001b[0;34m.\u001b[0m\u001b[0mstep\u001b[0m\u001b[0;34m(\u001b[0m\u001b[0mstates\u001b[0m\u001b[0;34m[\u001b[0m\u001b[0;36m0\u001b[0m\u001b[0;34m]\u001b[0m\u001b[0;34m,\u001b[0m \u001b[0maction0\u001b[0m\u001b[0;34m,\u001b[0m \u001b[0mrewards\u001b[0m\u001b[0;34m[\u001b[0m\u001b[0;36m0\u001b[0m\u001b[0;34m]\u001b[0m\u001b[0;34m,\u001b[0m \u001b[0mnext_states\u001b[0m\u001b[0;34m[\u001b[0m\u001b[0;36m0\u001b[0m\u001b[0;34m]\u001b[0m\u001b[0;34m,\u001b[0m \u001b[0mdones\u001b[0m\u001b[0;34m[\u001b[0m\u001b[0;36m0\u001b[0m\u001b[0;34m]\u001b[0m\u001b[0;34m)\u001b[0m\u001b[0;34m\u001b[0m\u001b[0;34m\u001b[0m\u001b[0m\n\u001b[0;32m---> 45\u001b[0;31m             \u001b[0magent\u001b[0m\u001b[0;34m.\u001b[0m\u001b[0mstep\u001b[0m\u001b[0;34m(\u001b[0m\u001b[0mstates\u001b[0m\u001b[0;34m[\u001b[0m\u001b[0;36m1\u001b[0m\u001b[0;34m]\u001b[0m\u001b[0;34m,\u001b[0m \u001b[0maction1\u001b[0m\u001b[0;34m,\u001b[0m \u001b[0mrewards\u001b[0m\u001b[0;34m[\u001b[0m\u001b[0;36m1\u001b[0m\u001b[0;34m]\u001b[0m\u001b[0;34m,\u001b[0m \u001b[0mnext_states\u001b[0m\u001b[0;34m[\u001b[0m\u001b[0;36m1\u001b[0m\u001b[0;34m]\u001b[0m\u001b[0;34m,\u001b[0m \u001b[0mdones\u001b[0m\u001b[0;34m[\u001b[0m\u001b[0;36m1\u001b[0m\u001b[0;34m]\u001b[0m\u001b[0;34m)\u001b[0m\u001b[0;34m\u001b[0m\u001b[0;34m\u001b[0m\u001b[0m\n\u001b[0m\u001b[1;32m     46\u001b[0m             \u001b[0mstates\u001b[0m \u001b[0;34m=\u001b[0m \u001b[0mnext_states\u001b[0m\u001b[0;34m\u001b[0m\u001b[0;34m\u001b[0m\u001b[0m\n\u001b[1;32m     47\u001b[0m             \u001b[0;32mif\u001b[0m \u001b[0mdones\u001b[0m\u001b[0;34m[\u001b[0m\u001b[0;36m0\u001b[0m\u001b[0;34m]\u001b[0m\u001b[0;34m:\u001b[0m\u001b[0;34m\u001b[0m\u001b[0;34m\u001b[0m\u001b[0m\n",
      "\u001b[0;32m~/Machine_Learning/reinforcement_learning/deep-reinforcement-learning/p3_collab-compet/ddpg_agent.py\u001b[0m in \u001b[0;36mstep\u001b[0;34m(self, state, action, reward, next_state, done)\u001b[0m\n\u001b[1;32m    107\u001b[0m                 \u001b[0;32melse\u001b[0m\u001b[0;34m:\u001b[0m\u001b[0;34m\u001b[0m\u001b[0;34m\u001b[0m\u001b[0m\n\u001b[1;32m    108\u001b[0m                     \u001b[0mexperiences\u001b[0m \u001b[0;34m=\u001b[0m \u001b[0mself\u001b[0m\u001b[0;34m.\u001b[0m\u001b[0msample_bootstrap\u001b[0m\u001b[0;34m(\u001b[0m\u001b[0mself\u001b[0m\u001b[0;34m.\u001b[0m\u001b[0mN_Bootstrap\u001b[0m \u001b[0;34m,\u001b[0m \u001b[0mself\u001b[0m\u001b[0;34m.\u001b[0m\u001b[0mBatch_size\u001b[0m\u001b[0;34m,\u001b[0m \u001b[0mself\u001b[0m\u001b[0;34m.\u001b[0m\u001b[0mmemory\u001b[0m\u001b[0;34m.\u001b[0m\u001b[0mmemory\u001b[0m\u001b[0;34m,\u001b[0m \u001b[0mGAMMA\u001b[0m\u001b[0;34m)\u001b[0m\u001b[0;34m\u001b[0m\u001b[0;34m\u001b[0m\u001b[0m\n\u001b[0;32m--> 109\u001b[0;31m                 \u001b[0mself\u001b[0m\u001b[0;34m.\u001b[0m\u001b[0mlearn\u001b[0m\u001b[0;34m(\u001b[0m\u001b[0mexperiences\u001b[0m\u001b[0;34m,\u001b[0m \u001b[0mGAMMA\u001b[0m\u001b[0;34m)\u001b[0m\u001b[0;34m\u001b[0m\u001b[0;34m\u001b[0m\u001b[0m\n\u001b[0m\u001b[1;32m    110\u001b[0m \u001b[0;34m\u001b[0m\u001b[0m\n\u001b[1;32m    111\u001b[0m     \u001b[0;32mdef\u001b[0m \u001b[0mact\u001b[0m\u001b[0;34m(\u001b[0m\u001b[0mself\u001b[0m\u001b[0;34m,\u001b[0m \u001b[0mstate\u001b[0m\u001b[0;34m,\u001b[0m \u001b[0mreduction\u001b[0m\u001b[0;34m=\u001b[0m\u001b[0;36m1.\u001b[0m\u001b[0;34m,\u001b[0m \u001b[0madd_noise\u001b[0m\u001b[0;34m=\u001b[0m\u001b[0;32mTrue\u001b[0m\u001b[0;34m)\u001b[0m\u001b[0;34m:\u001b[0m\u001b[0;34m\u001b[0m\u001b[0;34m\u001b[0m\u001b[0m\n",
      "\u001b[0;32m~/Machine_Learning/reinforcement_learning/deep-reinforcement-learning/p3_collab-compet/ddpg_agent.py\u001b[0m in \u001b[0;36mlearn\u001b[0;34m(self, experiences, gamma)\u001b[0m\n\u001b[1;32m    151\u001b[0m         \u001b[0;31m# Minimize the loss\u001b[0m\u001b[0;34m\u001b[0m\u001b[0;34m\u001b[0m\u001b[0;34m\u001b[0m\u001b[0m\n\u001b[1;32m    152\u001b[0m         \u001b[0mself\u001b[0m\u001b[0;34m.\u001b[0m\u001b[0mcritic_optimizer\u001b[0m\u001b[0;34m.\u001b[0m\u001b[0mzero_grad\u001b[0m\u001b[0;34m(\u001b[0m\u001b[0;34m)\u001b[0m\u001b[0;34m\u001b[0m\u001b[0;34m\u001b[0m\u001b[0m\n\u001b[0;32m--> 153\u001b[0;31m         \u001b[0mcritic_loss\u001b[0m\u001b[0;34m.\u001b[0m\u001b[0mbackward\u001b[0m\u001b[0;34m(\u001b[0m\u001b[0;34m)\u001b[0m\u001b[0;34m\u001b[0m\u001b[0;34m\u001b[0m\u001b[0m\n\u001b[0m\u001b[1;32m    154\u001b[0m         \u001b[0mself\u001b[0m\u001b[0;34m.\u001b[0m\u001b[0mcritic_optimizer\u001b[0m\u001b[0;34m.\u001b[0m\u001b[0mstep\u001b[0m\u001b[0;34m(\u001b[0m\u001b[0;34m)\u001b[0m\u001b[0;34m\u001b[0m\u001b[0;34m\u001b[0m\u001b[0m\n\u001b[1;32m    155\u001b[0m \u001b[0;34m\u001b[0m\u001b[0m\n",
      "\u001b[0;32m~/.local/lib/python3.6/site-packages/torch/tensor.py\u001b[0m in \u001b[0;36mbackward\u001b[0;34m(self, gradient, retain_graph, create_graph)\u001b[0m\n\u001b[1;32m    105\u001b[0m                 \u001b[0mproducts\u001b[0m\u001b[0;34m.\u001b[0m \u001b[0mDefaults\u001b[0m \u001b[0mto\u001b[0m\u001b[0;31m \u001b[0m\u001b[0;31m`\u001b[0m\u001b[0;31m`\u001b[0m\u001b[0;32mFalse\u001b[0m\u001b[0;31m`\u001b[0m\u001b[0;31m`\u001b[0m\u001b[0;34m.\u001b[0m\u001b[0;34m\u001b[0m\u001b[0;34m\u001b[0m\u001b[0m\n\u001b[1;32m    106\u001b[0m         \"\"\"\n\u001b[0;32m--> 107\u001b[0;31m         \u001b[0mtorch\u001b[0m\u001b[0;34m.\u001b[0m\u001b[0mautograd\u001b[0m\u001b[0;34m.\u001b[0m\u001b[0mbackward\u001b[0m\u001b[0;34m(\u001b[0m\u001b[0mself\u001b[0m\u001b[0;34m,\u001b[0m \u001b[0mgradient\u001b[0m\u001b[0;34m,\u001b[0m \u001b[0mretain_graph\u001b[0m\u001b[0;34m,\u001b[0m \u001b[0mcreate_graph\u001b[0m\u001b[0;34m)\u001b[0m\u001b[0;34m\u001b[0m\u001b[0;34m\u001b[0m\u001b[0m\n\u001b[0m\u001b[1;32m    108\u001b[0m \u001b[0;34m\u001b[0m\u001b[0m\n\u001b[1;32m    109\u001b[0m     \u001b[0;32mdef\u001b[0m \u001b[0mregister_hook\u001b[0m\u001b[0;34m(\u001b[0m\u001b[0mself\u001b[0m\u001b[0;34m,\u001b[0m \u001b[0mhook\u001b[0m\u001b[0;34m)\u001b[0m\u001b[0;34m:\u001b[0m\u001b[0;34m\u001b[0m\u001b[0;34m\u001b[0m\u001b[0m\n",
      "\u001b[0;32m~/.local/lib/python3.6/site-packages/torch/autograd/__init__.py\u001b[0m in \u001b[0;36mbackward\u001b[0;34m(tensors, grad_tensors, retain_graph, create_graph, grad_variables)\u001b[0m\n\u001b[1;32m     91\u001b[0m     Variable._execution_engine.run_backward(\n\u001b[1;32m     92\u001b[0m         \u001b[0mtensors\u001b[0m\u001b[0;34m,\u001b[0m \u001b[0mgrad_tensors\u001b[0m\u001b[0;34m,\u001b[0m \u001b[0mretain_graph\u001b[0m\u001b[0;34m,\u001b[0m \u001b[0mcreate_graph\u001b[0m\u001b[0;34m,\u001b[0m\u001b[0;34m\u001b[0m\u001b[0;34m\u001b[0m\u001b[0m\n\u001b[0;32m---> 93\u001b[0;31m         allow_unreachable=True)  # allow_unreachable flag\n\u001b[0m\u001b[1;32m     94\u001b[0m \u001b[0;34m\u001b[0m\u001b[0m\n\u001b[1;32m     95\u001b[0m \u001b[0;34m\u001b[0m\u001b[0m\n",
      "\u001b[0;31mKeyboardInterrupt\u001b[0m: "
     ]
    }
   ],
   "source": [
    "%load_ext autoreload\n",
    "%autoreload 2\n",
    "\n",
    "import torch\n",
    "from matplotlib import pyplot as plt\n",
    "from ddpg_agent import Agent\n",
    "from collections import deque\n",
    "\n",
    "env_info = env.reset(train_mode=True)[brain_name]\n",
    "states = env_info.vector_observations\n",
    "action_size = brain.vector_action_space_size\n",
    "state_size = states.shape[1]\n",
    "\n",
    "\n",
    "\n",
    "print_every = 30\n",
    "n_episodes= 5000 # 2000\n",
    "max_t=1000\n",
    "Batch_size = 64# 512\n",
    "N_Bootstrap = 1  ## New\n",
    "Learning_Rate = 10\n",
    "seed = 8\n",
    "\n",
    "\n",
    "\n",
    "def ddpg(env,agent, print_every, n_episodes, max_t, Batch_size, N_Bootstrap, seed):\n",
    "    scores=[]\n",
    "    scores_deque = deque(maxlen=print_every)\n",
    "    for i_episode in range(0, n_episodes+1):\n",
    "        env_info = env.reset(train_mode=True)[brain_name]\n",
    "        agent.reset()\n",
    "        states = env_info.vector_observations\n",
    "        score = np.asarray([0.,0.])\n",
    "        reduction =1# ((n_episodes-i_episode+0.0)/(n_episodes+0.0))**1. #20.\n",
    "        for t in range(max_t):\n",
    "            action0 = agent.act(np.asarray([states[0]]),reduction) #states[0]\n",
    "            action1 = agent.act(np.asarray([states[1]]),reduction) #states[0]\n",
    "            env_info = env.step([action0,action1])[brain_name]           # send all actions to tne environment\n",
    "            next_states = env_info.vector_observations         # get next state (for each agent)\n",
    "            rewards = env_info.rewards                         # get reward (for each agent)\n",
    "            dones = env_info.local_done                        # see if episode finished\n",
    "            a = np.asarray(env_info.rewards)\n",
    "            score += np.asarray(env_info.rewards)\n",
    "            agent.step(states[0], action0, rewards[0], next_states[0], dones[0])\n",
    "            agent.step(states[1], action1, rewards[1], next_states[1], dones[1])\n",
    "            states = next_states\n",
    "            if dones[0]:\n",
    "                break\n",
    "        scores_deque.append(score)\n",
    "        #scores.append(score)\n",
    "        if i_episode % print_every == 0:\n",
    "            print('\\rEpisode {}\\tAverage Score: {:.2f}'.format(i_episode, np.mean(scores_deque)))\n",
    "#            print (action0)\n",
    "#            print (action1)\n",
    "#            print (states)\n",
    "            torch.save(agent.actor_local.state_dict(), 'checkpoint_actor_.pth')\n",
    "            torch.save(agent.critic_local.state_dict(), 'checkpoint_critic_.pth')\n",
    "    return scores\n",
    "\n",
    "\n",
    "agent = Agent(state_size, action_size, seed, Batch_size, Learning_Rate, N_Bootstrap)\n",
    "scores = ddpg(env,agent, print_every, n_episodes, max_t, Batch_size, N_Bootstrap, seed)\n",
    "torch.save(agent.actor_local.state_dict(), 'checkpoint_actor_'+str(seed)+\".pth\")\n",
    "torch.save(agent.critic_local.state_dict(), 'checkpoint_critic_'+str(seed)+\".pth\")"
   ]
  },
  {
   "cell_type": "code",
   "execution_count": 13,
   "metadata": {},
   "outputs": [
    {
     "data": {
      "text/plain": [
       "1"
      ]
     },
     "execution_count": 13,
     "metadata": {},
     "output_type": "execute_result"
    }
   ],
   "source": [
    "import numpy\n",
    "numpy.random.choice(numpy.arange(1, 7), p=[0.1, 0.05, 0.05, 0.2, 0.4, 0.2])"
   ]
  },
  {
   "cell_type": "code",
   "execution_count": 15,
   "metadata": {},
   "outputs": [
    {
     "name": "stdout",
     "output_type": "stream",
     "text": [
      "deque([2, 3, 4])\n"
     ]
    }
   ],
   "source": [
    "deq = deque([1, 2, 3, 4])\n",
    "for i in range(1):\n",
    "    del deq[i]\n",
    "print(deq)"
   ]
  },
  {
   "cell_type": "code",
   "execution_count": 16,
   "metadata": {},
   "outputs": [
    {
     "name": "stdout",
     "output_type": "stream",
     "text": [
      "deque([2, 4])\n"
     ]
    }
   ],
   "source": [
    "del deq[1]\n",
    "print(deq)"
   ]
  },
  {
   "cell_type": "code",
   "execution_count": 11,
   "metadata": {},
   "outputs": [
    {
     "name": "stdout",
     "output_type": "stream",
     "text": [
      "<class 'numpy.ndarray'>\n",
      "<class 'numpy.ndarray'>\n"
     ]
    },
    {
     "data": {
      "text/plain": [
       "array([0., 0.])"
      ]
     },
     "execution_count": 11,
     "metadata": {},
     "output_type": "execute_result"
    }
   ],
   "source": [
    "print(type(np.asarray([0,0])) )\n",
    "print(type(np.asarray(env_info.rewards)))\n",
    "np.asarray([0,0])+np.asarray(env_info.rewards)"
   ]
  },
  {
   "cell_type": "code",
   "execution_count": null,
   "metadata": {},
   "outputs": [],
   "source": [
    "####### Random #####\n",
    "\n",
    "states_ = []\n",
    "rewards_= []\n",
    "for i in range(1, 20):                                      # play game for 5 episodes\n",
    "    env_info = env.reset(train_mode=False)[brain_name]     # reset the environment    \n",
    "    states = env_info.vector_observations                  # get the current state (for each agent)\n",
    "    scores = np.zeros(num_agents)                          # initialize the score (for each agent)\n",
    "    while True:\n",
    "        actions = np.random.randn(num_agents, action_size) # select an action (for each agent)\n",
    "        actions = np.clip(actions, -1, 1)                  # all actions between -1 and 1\n",
    "        env_info = env.step(actions)[brain_name]           # send all actions to tne environment\n",
    "        next_states = env_info.vector_observations         # get next state (for each agent)\n",
    "        rewards = env_info.rewards                         # get reward (for each agent)\n",
    "        rewards_.append(rewards)\n",
    "        dones = env_info.local_done                        # see if episode finished\n",
    "        scores += env_info.rewards                         # update the score (for each agent)\n",
    "        states = next_states                               # roll over states to next time step\n",
    "        states_.append(states)\n",
    "        if np.any(dones):                                  # exit loop if episode finished\n",
    "            break\n",
    "    print('Score (max over agents) from episode {}: {}'.format(i, np.max(scores)))"
   ]
  }
 ],
 "metadata": {
  "kernelspec": {
   "display_name": "Python 3",
   "language": "python",
   "name": "python3"
  },
  "language_info": {
   "codemirror_mode": {
    "name": "ipython",
    "version": 3
   },
   "file_extension": ".py",
   "mimetype": "text/x-python",
   "name": "python",
   "nbconvert_exporter": "python",
   "pygments_lexer": "ipython3",
   "version": "3.6.8"
  }
 },
 "nbformat": 4,
 "nbformat_minor": 2
}
